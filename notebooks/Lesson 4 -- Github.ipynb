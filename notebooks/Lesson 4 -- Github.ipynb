{
 "cells": [
  {
   "cell_type": "markdown",
   "metadata": {},
   "source": [
    "# GitHub REST API\n",
    "\n",
    "Almost the whole of GitHub's functionality can be accessed and controlled using their REST API. [MirageOS](https://mirage.io/), an OCaml library operating system for building unikernels, includes a library for OCaml which wraps many of these APIs, providing an easy and convenient way to query and control GitHub from the command line. Along the way we will learn additional a few more OCaml concepts:\n",
    "\n",
    "First let's include the required libraries:"
   ]
  },
  {
   "cell_type": "code",
   "execution_count": 28,
   "metadata": {},
   "outputs": [],
   "source": [
    "#thread;;\n",
    "#require \"github-unix\";;\n",
    "#require \"jupyter.notebook\";;"
   ]
  },
  {
   "cell_type": "markdown",
   "metadata": {},
   "source": [
    "Next let us define helper functions:"
   ]
  },
  {
   "cell_type": "code",
   "execution_count": 29,
   "metadata": {},
   "outputs": [
    {
     "data": {
      "text/plain": [
       "val show : string -> unit = <fun>\n"
      ]
     },
     "execution_count": 29,
     "metadata": {},
     "output_type": "execute_result"
    },
    {
     "data": {
      "text/plain": [
       "val ( |> ) : 'a -> ('a -> 'b) -> 'b = <fun>\n"
      ]
     },
     "execution_count": 29,
     "metadata": {},
     "output_type": "execute_result"
    }
   ],
   "source": [
    "let show s = ignore (Jupyter_notebook.display \"text/html\" (\"<h3 style='color:red'>\"^s^\"</h3>\"))\n",
    "\n",
    "let (|>) x f = f x"
   ]
  },
  {
   "cell_type": "markdown",
   "metadata": {},
   "source": [
    "The syntax above is OCaml's way of defining infix functions. Now we can use `|>` in infix position:"
   ]
  },
  {
   "cell_type": "code",
   "execution_count": 30,
   "metadata": {},
   "outputs": [
    {
     "data": {
      "text/plain": [
       "val inc : int -> int = <fun>\n"
      ]
     },
     "execution_count": 30,
     "metadata": {},
     "output_type": "execute_result"
    }
   ],
   "source": [
    "let inc x = x + 1"
   ]
  },
  {
   "cell_type": "code",
   "execution_count": 31,
   "metadata": {},
   "outputs": [
    {
     "data": {
      "text/plain": [
       "- : int = 8\n"
      ]
     },
     "execution_count": 31,
     "metadata": {},
     "output_type": "execute_result"
    }
   ],
   "source": [
    "5 |> inc |> inc |> inc"
   ]
  },
  {
   "cell_type": "markdown",
   "metadata": {},
   "source": [
    "Many of the Github APIs return promises. We will define a helper function `run` that forces the promises:"
   ]
  },
  {
   "cell_type": "code",
   "execution_count": 32,
   "metadata": {
    "scrolled": true
   },
   "outputs": [
    {
     "data": {
      "text/plain": [
       "val run : 'a Github.Monad.t -> 'a = <fun>\n"
      ]
     },
     "execution_count": 32,
     "metadata": {},
     "output_type": "execute_result"
    }
   ],
   "source": [
    "let run f = f |> Github.Monad.run |> Lwt_main.run"
   ]
  },
  {
   "cell_type": "markdown",
   "metadata": {},
   "source": [
    "## Fetching an issue\n",
    "\n",
    "Let's fetch information about an issue from the OCaml compiler's [github repo](https://github.com/ocaml/ocaml):"
   ]
  },
  {
   "cell_type": "code",
   "execution_count": 33,
   "metadata": {},
   "outputs": [
    {
     "data": {
      "text/plain": [
       "val r : Github_t.issue Github.Response.t = <obj>\n"
      ]
     },
     "execution_count": 33,
     "metadata": {},
     "output_type": "execute_result"
    }
   ],
   "source": [
    "let r = Github.Issue.get ~repo:\"ocaml\" ~user:\"ocaml\" ~num:8625 () |> run"
   ]
  },
  {
   "cell_type": "markdown",
   "metadata": {},
   "source": [
    "Here we are fetching the issue [#8625](https://github.com/ocaml/ocaml/issues/8625). OCaml has support for labelled arguments. In the function call above, the labels are `repo`, `user` and `num`. Labelled arguments are a way of documenting the interfaces more precisely than just the types `string` or `int`. They can also be passed in any order. The function call above returns the same result as the one above."
   ]
  },
  {
   "cell_type": "code",
   "execution_count": 34,
   "metadata": {},
   "outputs": [
    {
     "data": {
      "text/plain": [
       "val r : Github_t.issue Github.Response.t = <obj>\n"
      ]
     },
     "execution_count": 34,
     "metadata": {},
     "output_type": "execute_result"
    }
   ],
   "source": [
    "let r = Github.Issue.get ~user:\"ocaml\" ~repo:\"ocaml\" ~num:8625 () |> run"
   ]
  },
  {
   "cell_type": "markdown",
   "metadata": {},
   "source": [
    "You can look at the type of get by typing just the function name:"
   ]
  },
  {
   "cell_type": "code",
   "execution_count": 35,
   "metadata": {
    "scrolled": true
   },
   "outputs": [
    {
     "data": {
      "text/plain": [
       "- : ?token:Github.Token.t ->\n",
       "    user:string ->\n",
       "    repo:string ->\n",
       "    num:int -> unit -> Github_t.issue Github.Response.t Github.Monad.t\n",
       "= <fun>\n"
      ]
     },
     "execution_count": 35,
     "metadata": {},
     "output_type": "execute_result"
    }
   ],
   "source": [
    "Github.Issue.get"
   ]
  },
  {
   "cell_type": "markdown",
   "metadata": {},
   "source": [
    "The complete documentation of the Github API is found [here](https://mirage.github.io/ocaml-github/github-unix/Github/index.html). Now we have a value `r` with us which is of type `Github_t.issue Github.Response.t`. We also see that `r` is an object!"
   ]
  },
  {
   "cell_type": "code",
   "execution_count": 36,
   "metadata": {},
   "outputs": [
    {
     "data": {
      "text/plain": [
       "- : Github_t.issue Github.Response.t = <obj>\n"
      ]
     },
     "execution_count": 36,
     "metadata": {},
     "output_type": "execute_result"
    }
   ],
   "source": [
    "r"
   ]
  },
  {
   "cell_type": "markdown",
   "metadata": {},
   "source": [
    "OCaml has first-class support for [object oriented programming](https://caml.inria.fr/pub/docs/manual-ocaml/objectexamples.html) in addition to the functional programming and imperative programming features.\n",
    "\n",
    "We can see by [consulting the documentation](https://mirage.github.io/ocaml-github/github-unix/Github/Response/index.html#type-t) has a method called value which is of type `Github_t.issue` in this case. Object methods are invoked in OCaml as follows:"
   ]
  },
  {
   "cell_type": "code",
   "execution_count": 37,
   "metadata": {
    "scrolled": true
   },
   "outputs": [
    {
     "data": {
      "text/plain": [
       "- : Github_t.issue =\n",
       "{Github_t.issue_url = \"https://api.github.com/repos/ocaml/ocaml/issues/8625\";\n",
       " issue_html_url = \"https://github.com/ocaml/ocaml/issues/8625\";\n",
       " issue_number = 8625; issue_state = `Open;\n",
       " issue_title = \"ocamldep: add a robust mode\";\n",
       " issue_body =\n",
       "  \"`ocamldep` has a tendency to silently do nothing in case of errors. For instance:\\r\\n\\r\\n```\\r\\n$ ls toto.ml\\r\\nls: cannot access toto.ml: No such file or directory\\r\\n$ ocamldep toto.ml\\r\\n$ echo $?\\r\\n0\\r\\n```\\r\\n\\r\\nI'm guessing that this behaviour was designed for use in makefiles. However, it tends to dela\"... (* string length 513; truncated *);\n",
       " issue_user =\n",
       "  {Github_t.user_login = \"diml\"; user_id = 1251584L;\n",
       "   user_url = \"https://api.github.com/users/diml\";\n",
       "   user_avatar_url =\n",
       "    Some \"https://avatars1.githubusercontent.com/u/1251584?v=4\"};\n",
       " issue_labels = []; issue_comments = 3;\n",
       " issue_created_at = \"2019-04-18T09:25:59Z\";\n",
       " issue_updated_at = \"2019-04-18T15:55:56Z\"; issue_closed_at = None;\n",
       " issue_milestone = None; issue_sort = `Created; issue_direction = `Desc;\n",
       " issue_mentioned = None; issue_pull_request = None}\n"
      ]
     },
     "execution_count": 37,
     "metadata": {},
     "output_type": "execute_result"
    }
   ],
   "source": [
    "r#value"
   ]
  },
  {
   "cell_type": "markdown",
   "metadata": {},
   "source": [
    "## Fetching list of all issues\n",
    "\n",
    "Let us fetch the list of all the issues from the [OCaml Github API repo](https://github.com/mirage/ocaml-github/issues)."
   ]
  },
  {
   "cell_type": "code",
   "execution_count": 38,
   "metadata": {},
   "outputs": [
    {
     "data": {
      "text/plain": [
       "val s : Github_t.issue Github.Stream.t = <abstr>\n"
      ]
     },
     "execution_count": 38,
     "metadata": {},
     "output_type": "execute_result"
    }
   ],
   "source": [
    "let s = Github.Issue.for_repo ~user:\"mirage\" ~repo:\"ocaml-github\" ()"
   ]
  },
  {
   "cell_type": "markdown",
   "metadata": {},
   "source": [
    "Unlike getting a single issue, this API call returns a `stream` of issues for the repo. The [Stream API]() has a function called next which returns the optional next value from the stream along with the tail of the stream. We can use the API to print the issue number and issue title as follows:"
   ]
  },
  {
   "cell_type": "code",
   "execution_count": 39,
   "metadata": {},
   "outputs": [
    {
     "data": {
      "text/plain": [
       "val print_issue_num_title : Github_t.issue Github.Stream.t -> unit = <fun>\n"
      ]
     },
     "execution_count": 39,
     "metadata": {},
     "output_type": "execute_result"
    }
   ],
   "source": [
    "let rec print_issue_num_title s = \n",
    "  match Github.Stream.next s |> run with\n",
    "  | None -> ()\n",
    "  | Some ((i : Github_t.issue), s') -> \n",
    "      show (Printf.sprintf \"%d %s\" i.issue_number i.issue_title);\n",
    "      print_issue_num_title s'"
   ]
  },
  {
   "cell_type": "code",
   "execution_count": 40,
   "metadata": {},
   "outputs": [
    {
     "data": {
      "text/html": [
       "<h3 style='color:red'>220 Cross-references in code</h3>"
      ]
     },
     "metadata": {},
     "output_type": "display_data"
    },
    {
     "data": {
      "text/html": [
       "<h3 style='color:red'>197 EPIPE when uploading asset</h3>"
      ]
     },
     "metadata": {},
     "output_type": "display_data"
    },
    {
     "data": {
      "text/html": [
       "<h3 style='color:red'>195 Poor error if chmod fails</h3>"
      ]
     },
     "metadata": {},
     "output_type": "display_data"
    },
    {
     "data": {
      "text/html": [
       "<h3 style='color:red'>189 Add webhook pings</h3>"
      ]
     },
     "metadata": {},
     "output_type": "display_data"
    },
    {
     "data": {
      "text/html": [
       "<h3 style='color:red'>185 Add support for GitHub Integrations</h3>"
      ]
     },
     "metadata": {},
     "output_type": "display_data"
    },
    {
     "data": {
      "text/html": [
       "<h3 style='color:red'>184 Add maintainer_can_modify field to PR creation</h3>"
      ]
     },
     "metadata": {},
     "output_type": "display_data"
    },
    {
     "data": {
      "text/html": [
       "<h3 style='color:red'>172 git jar should allow alternate GitHub token names</h3>"
      ]
     },
     "metadata": {},
     "output_type": "display_data"
    },
    {
     "data": {
      "text/html": [
       "<h3 style='color:red'>168 Provide future-proof record constructors</h3>"
      ]
     },
     "metadata": {},
     "output_type": "display_data"
    },
    {
     "data": {
      "text/html": [
       "<h3 style='color:red'>166 Update gh-pages API docs</h3>"
      ]
     },
     "metadata": {},
     "output_type": "display_data"
    },
    {
     "data": {
      "text/html": [
       "<h3 style='color:red'>139 port to graphql!?!</h3>"
      ]
     },
     "metadata": {},
     "output_type": "display_data"
    },
    {
     "data": {
      "text/html": [
       "<h3 style='color:red'>121 Add anonymous contributor listing capability</h3>"
      ]
     },
     "metadata": {},
     "output_type": "display_data"
    },
    {
     "data": {
      "text/html": [
       "<h3 style='color:red'>119 Check empty stream endpoints for 404 compatibility</h3>"
      ]
     },
     "metadata": {},
     "output_type": "display_data"
    },
    {
     "data": {
      "text/html": [
       "<h3 style='color:red'>109 Move from atdgen to ppx_deriving_yojson</h3>"
      ]
     },
     "metadata": {},
     "output_type": "display_data"
    },
    {
     "data": {
      "text/html": [
       "<h3 style='color:red'>102 JSON output for the various commands</h3>"
      ]
     },
     "metadata": {},
     "output_type": "display_data"
    },
    {
     "data": {
      "text/html": [
       "<h3 style='color:red'>92 Root API</h3>"
      ]
     },
     "metadata": {},
     "output_type": "display_data"
    },
    {
     "data": {
      "text/html": [
       "<h3 style='color:red'>86 Support Statistics API</h3>"
      ]
     },
     "metadata": {},
     "output_type": "display_data"
    },
    {
     "data": {
      "text/html": [
       "<h3 style='color:red'>84 Rate limit tracking with multiple implicit tokens doesn't work</h3>"
      ]
     },
     "metadata": {},
     "output_type": "display_data"
    },
    {
     "data": {
      "text/html": [
       "<h3 style='color:red'>83 Support check, reset, and fingerprint for tokens</h3>"
      ]
     },
     "metadata": {},
     "output_type": "display_data"
    },
    {
     "data": {
      "text/html": [
       "<h3 style='color:red'>40 using tokens (from cookie jar) to perform git operations (e.g., push)</h3>"
      ]
     },
     "metadata": {},
     "output_type": "display_data"
    },
    {
     "data": {
      "text/plain": [
       "- : unit = ()\n"
      ]
     },
     "execution_count": 40,
     "metadata": {},
     "output_type": "execute_result"
    }
   ],
   "source": [
    "print_issue_num_title s"
   ]
  },
  {
   "cell_type": "markdown",
   "metadata": {},
   "source": [
    "<h3> <span style=\"color:purple;border-style:solid\"> Exercise </span> </h3>\n",
    "\n",
    "Implement a function to print list of username and URLs of all the comments on the issue [#8625](https://github.com/ocaml/ocaml/issues/8625) that we saw earlier. Use the function [`Github.Issue.comments`](https://mirage.github.io/ocaml-github/github-unix/Github/Issue/index.html#val-comments)."
   ]
  },
  {
   "cell_type": "code",
   "execution_count": 44,
   "metadata": {
    "scrolled": true
   },
   "outputs": [
    {
     "ename": "error",
     "evalue": "runtime_error",
     "output_type": "error",
     "traceback": [
      "\u001b[31mException: Failure \"for you to implement\".\nRaised at file \"stdlib.ml\", line 33, characters 22-33\nCalled from file \"[44]\", line 1, characters 31-64\nCalled from file \"toplevel/toploop.ml\", line 180, characters 17-56\n\u001b[0m"
     ]
    }
   ],
   "source": [
    "let s' = Github.Issue.comments (failwith \"for you to implement\")"
   ]
  },
  {
   "cell_type": "code",
   "execution_count": 45,
   "metadata": {},
   "outputs": [
    {
     "data": {
      "text/plain": [
       "val print_issue_comment_user_url : 'a -> 'b = <fun>\n"
      ]
     },
     "execution_count": 45,
     "metadata": {},
     "output_type": "execute_result"
    }
   ],
   "source": [
    "let rec print_issue_comment_user_url s = failwith \"for you to implement\""
   ]
  },
  {
   "cell_type": "code",
   "execution_count": 46,
   "metadata": {},
   "outputs": [
    {
     "ename": "error",
     "evalue": "compile_error",
     "output_type": "error",
     "traceback": [
      "\u001b[32mFile \"[46]\", line 1, characters 22-24:\n\u001b[31mError: Unbound value s'\n\u001b[36m   1: \u001b[30mprint_issue_num_title \u001b[4ms'\u001b[0m\n"
     ]
    }
   ],
   "source": [
    "print_issue_num_title s'"
   ]
  },
  {
   "cell_type": "markdown",
   "metadata": {},
   "source": [
    "## Github API rate limits\n",
    "\n",
    "Running anonymously, you may quickly hit GitHub’s rate limiting on REST API calls. There are a couple of ways around this - the best is to take advantage of the git jar command installed. All API calls have a ?token optional parameter which can be either a login token or an OAUTH token. github-unix installs the git jar command which allows you create and store OAUTH tokens in your home directory and retrieve them using the Github_ookie_jar module. Github.Token also contains functions for negotiating GitHub’s 2 factor login.\n",
    "\n",
    "For example, I can create a new token in the command line by:\n",
    "\n",
    "```\n",
    "$ git jar create kayceesrk tutorial\n",
    "Enter Github password: *******************                                                                                                                                        \n",
    "Enter Github password: *******************\n",
    "Enter 2FA code from 'app': 999999\n",
    "Github cookie jar: created /Users/kc/.github/jar/tutorial\n",
    "Created token tutorial (9999999999): 9999999999999999999999999999999999999999\n",
    "```\n",
    "\n",
    "Copy the token string. Now, you can do:\n",
    "\n",
    "```\n",
    "let token = Github.Token.of_string \"9999999999999999999999999999999999999999\"\n",
    "let r = Github.Issue.get ~token ~repo:\"ocaml\" ~user:\"ocaml\" ~num:8625 () |> run\n",
    "```"
   ]
  }
 ],
 "metadata": {
  "kernelspec": {
   "display_name": "OCaml ocaml-base-compiler.4.07.1",
   "language": "OCaml",
   "name": "ocaml-jupyter"
  },
  "language_info": {
   "codemirror_mode": "text/x-ocaml",
   "file_extension": ".ml",
   "mimetype": "text/x-ocaml",
   "name": "OCaml",
   "nbconverter_exporter": null,
   "pygments_lexer": "OCaml",
   "version": "4.07.1"
  }
 },
 "nbformat": 4,
 "nbformat_minor": 2
}
