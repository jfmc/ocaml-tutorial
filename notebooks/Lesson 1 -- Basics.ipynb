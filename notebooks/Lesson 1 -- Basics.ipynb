{
 "cells": [
  {
   "cell_type": "markdown",
   "metadata": {},
   "source": [
    "# Basics\n",
    "\n",
    "In this notebook, we will cover the basics of OCaml programming langauge. \n",
    "\n",
    "## Why OCaml\n",
    "\n",
    "* OCaml is an industrial-strength, functional programming language.\n",
    "    + In the same family as Haskell and Standard ML. \n",
    "    + Initially developed at INRIA, and is now a healthy open-source project developed on [Github](https://github.com/ocaml/ocaml)\n",
    "* Good mix of functional, imperative and object-oriented features.\n",
    "* A fast compiler that produces efficient native code for x86, ARM, RISC-V, etc., as well as JavaScript.\n",
    "* Users include \n",
    "    + JaneStreet (almost everything from Hardware that injests market data to trading algorithms to infrastructure)\n",
    "    + Microsoft (Everest project, F* programming language)\n",
    "    + Facebook (Hack, Infer, Flow, ReasonML). [More than 50% messenger.com is ReasonML](https://reasonml.github.io/blog/2017/09/08/messenger-50-reason.html).\n",
    "    + Docker (for Mac and Windows use MirageOS libraries). \n",
    "    + and a variety of other research projects including Coq proof assistant, Compcert verified C compiler, MirageOS Unikernel OS, etc.\n",
    "\n",
    "\n",
    "Ultimately, functional programming offers an alternative way to think about _programming_, which is useful even if you don't intend to use a functional programming language. That said, functional programming concepts such as  immutability, lambdas, coroutines, promises, monads, lenses, applicatives, functors, Hindley-Damas-Milner type inference are being adopted in mainstream imperative languages in C++, Java, Python, Rust etc., but also new languages that run on your favourite platform Clojure and Kotlin on the JVM, Elixir on Erlang OTP, etc. \n",
    "\n",
    "\n",
    "## Jupyter notebook\n",
    "\n",
    "\n",
    "We will be learning OCaml using Jupyter notebooks. \n",
    "\n",
    "| Command           | Key Combo        |\n",
    "|-------------------|------------------|\n",
    "| Run cell          | ctrl + `<enter>` |\n",
    "| Delete cell       | dd               |\n",
    "| Insert cell above | a                |\n",
    "| Insert cell below | b                |\n",
    "\n",
    "## Variables\n",
    "\n",
    "### Let binding\n",
    "\n",
    "At its simplest, a variable is an identifier whose meaning is bound to a particular value. In OCaml these bindings are introduced using the let keyword."
   ]
  },
  {
   "cell_type": "code",
   "execution_count": 1,
   "metadata": {},
   "outputs": [
    {
     "data": {
      "text/plain": [
       "val pi : int = 3\n"
      ]
     },
     "execution_count": 1,
     "metadata": {},
     "output_type": "execute_result"
    }
   ],
   "source": [
    "let pi = 3"
   ]
  },
  {
   "cell_type": "markdown",
   "metadata": {},
   "source": [
    "As you can see from the output pi is now bound to the value 3. Its type has also been inferred as int.\n",
    "\n",
    "Every variable binding has a scope, which is the portion of the code that can refer to that binding. The scope of top-level let bindings -- like the one above -- is everything that follows it."
   ]
  },
  {
   "cell_type": "code",
   "execution_count": 2,
   "metadata": {},
   "outputs": [
    {
     "data": {
      "text/plain": [
       "- : int = 30\n"
      ]
     },
     "execution_count": 2,
     "metadata": {},
     "output_type": "execute_result"
    }
   ],
   "source": [
    "2 * pi * 5"
   ]
  },
  {
   "cell_type": "markdown",
   "metadata": {},
   "source": [
    "### Primitive data types\n",
    "\n",
    "OCaml offers the following primitive data types int, float, bool, char, string and unit.\n"
   ]
  },
  {
   "cell_type": "code",
   "execution_count": 6,
   "metadata": {},
   "outputs": [
    {
     "data": {
      "text/plain": [
       "val one : int = 1\n"
      ]
     },
     "execution_count": 6,
     "metadata": {},
     "output_type": "execute_result"
    },
    {
     "data": {
      "text/plain": [
       "val pi : float = 3.1415\n"
      ]
     },
     "execution_count": 6,
     "metadata": {},
     "output_type": "execute_result"
    },
    {
     "data": {
      "text/plain": [
       "val are_you_awesome : bool = true\n"
      ]
     },
     "execution_count": 6,
     "metadata": {},
     "output_type": "execute_result"
    },
    {
     "data": {
      "text/plain": [
       "val a : char = 'a'\n"
      ]
     },
     "execution_count": 6,
     "metadata": {},
     "output_type": "execute_result"
    },
    {
     "data": {
      "text/plain": [
       "val hello : string = \"Hello\"\n"
      ]
     },
     "execution_count": 6,
     "metadata": {},
     "output_type": "execute_result"
    },
    {
     "data": {
      "text/plain": [
       "val unit : unit = ()\n"
      ]
     },
     "execution_count": 6,
     "metadata": {},
     "output_type": "execute_result"
    }
   ],
   "source": [
    "let one = 1\n",
    "\n",
    "let pi = 3.1415\n",
    "\n",
    "let are_you_awesome = true\n",
    "\n",
    "let a = 'a'\n",
    "\n",
    "let hello = \"Hello\"\n",
    "\n",
    "let unit = ()"
   ]
  },
  {
   "cell_type": "markdown",
   "metadata": {},
   "source": [
    "Observe that the types are inferred. One of the key features of OCaml is type inference and type checking. For example, checking the equality of incompatible types fails with a compile time error."
   ]
  },
  {
   "cell_type": "code",
   "execution_count": 7,
   "metadata": {
    "scrolled": false
   },
   "outputs": [
    {
     "ename": "error",
     "evalue": "compile_error",
     "output_type": "error",
     "traceback": [
      "\u001b[32mFile \"[7]\", line 1, characters 6-8:\n\u001b[31mError: This expression has type float but an expression was expected of type\n         int\n\u001b[36m   1: \u001b[30mone = \u001b[4mpi\u001b[0m\n"
     ]
    }
   ],
   "source": [
    "one = pi"
   ]
  },
  {
   "cell_type": "markdown",
   "metadata": {},
   "source": [
    "### Local let bindings\n",
    "\n",
    "We can also use let to create a variable binding whose scope is limited to a particular expression using the in keyword:"
   ]
  },
  {
   "cell_type": "code",
   "execution_count": 3,
   "metadata": {},
   "outputs": [
    {
     "data": {
      "text/plain": [
       "val i : int = 7\n"
      ]
     },
     "execution_count": 3,
     "metadata": {},
     "output_type": "execute_result"
    }
   ],
   "source": [
    "let i =\n",
    "  let j = 5 in\n",
    "  j + 2"
   ]
  },
  {
   "cell_type": "markdown",
   "metadata": {},
   "source": [
    "As you can see from the output, only i has been bound to a value at the top-level. The j variable is no longer in scope:"
   ]
  },
  {
   "cell_type": "code",
   "execution_count": 4,
   "metadata": {},
   "outputs": [
    {
     "ename": "error",
     "evalue": "compile_error",
     "output_type": "error",
     "traceback": [
      "\u001b[32mFile \"[4]\", line 1, characters 0-1:\n\u001b[31mError: Unbound value j\n\u001b[36m   1: \u001b[30m\u001b[4mj\u001b[0m\u001b[30m+4\u001b[0m\n"
     ]
    }
   ],
   "source": [
    "j+4"
   ]
  },
  {
   "cell_type": "markdown",
   "metadata": {},
   "source": [
    "## Conditionals\n",
    "\n",
    "Unsurprisingly, OCaml provides conditional expressions using the if keyword:"
   ]
  },
  {
   "cell_type": "code",
   "execution_count": 8,
   "metadata": {},
   "outputs": [
    {
     "data": {
      "text/plain": [
       "val a : int = 7\n"
      ]
     },
     "execution_count": 8,
     "metadata": {},
     "output_type": "execute_result"
    }
   ],
   "source": [
    "let a = if i < 10 then i else 10"
   ]
  },
  {
   "cell_type": "markdown",
   "metadata": {},
   "source": [
    "## Functions\n",
    "\n",
    "### Function definition\n",
    "\n",
    "The let keyword can also be used to define functions:"
   ]
  },
  {
   "cell_type": "code",
   "execution_count": 5,
   "metadata": {},
   "outputs": [
    {
     "data": {
      "text/plain": [
       "val succ : int -> int = <fun>\n"
      ]
     },
     "execution_count": 5,
     "metadata": {},
     "output_type": "execute_result"
    }
   ],
   "source": [
    "let succ x = x + 1"
   ]
  },
  {
   "cell_type": "markdown",
   "metadata": {},
   "source": [
    "This defines a function called succ which takes an argument x and returns the value of x + 1. The type inferred for succ is int -> int which means it is a function from int to int -- it takes an integer argument and returns an integer.\n",
    "\n",
    "You can also provide explcit type annotations, but generally we elide them."
   ]
  },
  {
   "cell_type": "code",
   "execution_count": 11,
   "metadata": {},
   "outputs": [
    {
     "data": {
      "text/plain": [
       "val succ : int -> int = <fun>\n"
      ]
     },
     "execution_count": 11,
     "metadata": {},
     "output_type": "execute_result"
    }
   ],
   "source": [
    "let succ (x : int) : int = x + 1"
   ]
  },
  {
   "cell_type": "markdown",
   "metadata": {},
   "source": [
    "The latter definition of `succ` shadows the former. \n",
    "\n",
    "### Multiple arguments\n",
    "\n",
    "Functions with multiple arguments are defined the same way:"
   ]
  },
  {
   "cell_type": "code",
   "execution_count": 6,
   "metadata": {},
   "outputs": [
    {
     "data": {
      "text/plain": [
       "val add : int -> int -> int = <fun>\n"
      ]
     },
     "execution_count": 6,
     "metadata": {},
     "output_type": "execute_result"
    }
   ],
   "source": [
    "let add x y = x + y"
   ]
  },
  {
   "cell_type": "markdown",
   "metadata": {},
   "source": [
    "### Function application\n",
    "\n",
    "Unlike most imperative languages, functions are applied without any brackets:"
   ]
  },
  {
   "cell_type": "code",
   "execution_count": 9,
   "metadata": {},
   "outputs": [
    {
     "data": {
      "text/plain": [
       "val b : int = 9\n"
      ]
     },
     "execution_count": 9,
     "metadata": {},
     "output_type": "execute_result"
    },
    {
     "data": {
      "text/plain": [
       "val c : int = 16\n"
      ]
     },
     "execution_count": 9,
     "metadata": {},
     "output_type": "execute_result"
    }
   ],
   "source": [
    "let b = succ 8\n",
    "\n",
    "let c = add a b"
   ]
  },
  {
   "cell_type": "markdown",
   "metadata": {},
   "source": [
    "<h3> <span style=\"color:purple;border-style:solid\"> Exercise </span> </h3>\n",
    "\n",
    "Implement a function to compute the sum of successors of the given two numbers using `add` and `succ`."
   ]
  },
  {
   "cell_type": "code",
   "execution_count": 27,
   "metadata": {},
   "outputs": [
    {
     "data": {
      "text/plain": [
       "val sum_of_succ : 'a -> 'b -> 'c = <fun>\n"
      ]
     },
     "execution_count": 27,
     "metadata": {},
     "output_type": "execute_result"
    }
   ],
   "source": [
    "let sum_of_succ x y = failwith \"for you to implement\""
   ]
  },
  {
   "cell_type": "code",
   "execution_count": 28,
   "metadata": {},
   "outputs": [
    {
     "ename": "error",
     "evalue": "runtime_error",
     "output_type": "error",
     "traceback": [
      "\u001b[31mException: Failure \"for you to implement\".\nRaised at file \"stdlib.ml\", line 33, characters 22-33\nCalled from file \"[28]\", line 1, characters 8-23\nCalled from file \"toplevel/toploop.ml\", line 180, characters 17-56\n\u001b[0m"
     ]
    }
   ],
   "source": [
    "assert (sum_of_succ 5 6 = 13)"
   ]
  },
  {
   "cell_type": "markdown",
   "metadata": {},
   "source": [
    "### Recursive functions\n",
    "\n",
    "We can also create recursive functions by adding the rec keyword to a let binding. For example, the sum of first `n` integers can be implemented as follows:"
   ]
  },
  {
   "cell_type": "code",
   "execution_count": 1,
   "metadata": {},
   "outputs": [
    {
     "data": {
      "text/plain": [
       "val sum_of_first_n : int -> int = <fun>\n"
      ]
     },
     "execution_count": 1,
     "metadata": {},
     "output_type": "execute_result"
    }
   ],
   "source": [
    "let rec sum_of_first_n n = \n",
    "  if n <= 0 then 0\n",
    "  else sum_of_first_n (n-1) + n"
   ]
  },
  {
   "cell_type": "code",
   "execution_count": 3,
   "metadata": {},
   "outputs": [
    {
     "data": {
      "text/plain": [
       "- : unit = ()\n"
      ]
     },
     "execution_count": 3,
     "metadata": {},
     "output_type": "execute_result"
    }
   ],
   "source": [
    "assert (sum_of_first_n 5 = 15)"
   ]
  },
  {
   "cell_type": "markdown",
   "metadata": {},
   "source": [
    "<h3> <span style=\"color:purple;border-style:solid\"> Exercise </span> </h3>\n",
    "\n",
    "Implement a recursive function that computes the nth fibonacci number.\n",
    "\n",
    "\\begin{align}\n",
    "fib(n) =\n",
    "  \\begin{cases}\n",
    "    1 & \\quad \\text{if } n < 2 \\\\\n",
    "    fib(n-1) + fib(n-2)       & \\quad \\text{otherwise}\n",
    "  \\end{cases}\n",
    "\\end{align}"
   ]
  },
  {
   "cell_type": "code",
   "execution_count": 3,
   "metadata": {},
   "outputs": [
    {
     "data": {
      "text/plain": [
       "val fib : 'a -> 'b = <fun>\n"
      ]
     },
     "execution_count": 3,
     "metadata": {},
     "output_type": "execute_result"
    }
   ],
   "source": [
    "let rec fib n = failwith \"for you to implement\""
   ]
  },
  {
   "cell_type": "code",
   "execution_count": 4,
   "metadata": {
    "scrolled": true
   },
   "outputs": [
    {
     "ename": "error",
     "evalue": "runtime_error",
     "output_type": "error",
     "traceback": [
      "\u001b[31mException: Failure \"for you to implement\".\nRaised at file \"stdlib.ml\", line 33, characters 22-33\nCalled from file \"[4]\", line 1, characters 8-14\nCalled from file \"toplevel/toploop.ml\", line 180, characters 17-56\n\u001b[0m"
     ]
    }
   ],
   "source": [
    "assert (fib 10 = 89)"
   ]
  },
  {
   "cell_type": "markdown",
   "metadata": {},
   "source": [
    "### Labelled arguments\n",
    "\n",
    "Consider the following function"
   ]
  },
  {
   "cell_type": "code",
   "execution_count": 19,
   "metadata": {},
   "outputs": [
    {
     "data": {
      "text/plain": [
       "val divide : int -> int -> int = <fun>\n"
      ]
     },
     "execution_count": 19,
     "metadata": {},
     "output_type": "execute_result"
    }
   ],
   "source": [
    "let divide dividend divisor = dividend / divisor"
   ]
  },
  {
   "cell_type": "markdown",
   "metadata": {},
   "source": [
    "Looking at just the signature, it's not obvious which int argument is the dividend and which is the divisor.\n",
    "\n",
    "We can fix this using labelled arguments. To label an argument in a signature, `NAME:` is put before the type. When defining the function, we put a tilde (`~`) before the name of the argument:\n"
   ]
  },
  {
   "cell_type": "code",
   "execution_count": 20,
   "metadata": {
    "scrolled": true
   },
   "outputs": [
    {
     "data": {
      "text/plain": [
       "val divide : dividend:int -> divisor:int -> int = <fun>\n"
      ]
     },
     "execution_count": 20,
     "metadata": {},
     "output_type": "execute_result"
    }
   ],
   "source": [
    "let divide ~dividend ~divisor = dividend / divisor"
   ]
  },
  {
   "cell_type": "markdown",
   "metadata": {},
   "source": [
    "We can then call it using:"
   ]
  },
  {
   "cell_type": "code",
   "execution_count": 21,
   "metadata": {},
   "outputs": [
    {
     "data": {
      "text/plain": [
       "- : int = 3\n"
      ]
     },
     "execution_count": 21,
     "metadata": {},
     "output_type": "execute_result"
    }
   ],
   "source": [
    "divide ~dividend:9 ~divisor:3"
   ]
  },
  {
   "cell_type": "markdown",
   "metadata": {},
   "source": [
    "Labelled arguments can be passed in in any order (!)\n"
   ]
  },
  {
   "cell_type": "code",
   "execution_count": 22,
   "metadata": {},
   "outputs": [
    {
     "data": {
      "text/plain": [
       "- : int = 3\n"
      ]
     },
     "execution_count": 22,
     "metadata": {},
     "output_type": "execute_result"
    }
   ],
   "source": [
    "divide ~divisor:3 ~dividend:9 "
   ]
  },
  {
   "cell_type": "markdown",
   "metadata": {},
   "source": [
    "We can also pass variables into the labelled argument:"
   ]
  },
  {
   "cell_type": "code",
   "execution_count": 23,
   "metadata": {},
   "outputs": [
    {
     "data": {
      "text/plain": [
       "- : int = 3\n"
      ]
     },
     "execution_count": 23,
     "metadata": {},
     "output_type": "execute_result"
    }
   ],
   "source": [
    "let dividend = 9 in\n",
    "let divisor  = 3 in\n",
    "divide ~dividend:dividend ~divisor:divisor"
   ]
  },
  {
   "cell_type": "markdown",
   "metadata": {},
   "source": [
    "If the variable name happens to be the same as the labelled argument, we don't even have to write it twice:"
   ]
  },
  {
   "cell_type": "code",
   "execution_count": 26,
   "metadata": {},
   "outputs": [
    {
     "data": {
      "text/plain": [
       "- : int = 3\n"
      ]
     },
     "execution_count": 26,
     "metadata": {},
     "output_type": "execute_result"
    }
   ],
   "source": [
    "let dividend = 9 in\n",
    "let divisor  = 3 in\n",
    "divide ~dividend ~divisor"
   ]
  },
  {
   "cell_type": "markdown",
   "metadata": {},
   "source": [
    "<h3> <span style=\"color:purple;border-style:solid\"> Exercise </span> </h3>\n",
    "\n",
    "Implement `modulo ~dividend ~divisor` using our version of divide with labelled arguments."
   ]
  },
  {
   "cell_type": "code",
   "execution_count": 36,
   "metadata": {},
   "outputs": [
    {
     "data": {
      "text/plain": [
       "val modulo : dividend:'a -> divisor:'b -> 'c = <fun>\n"
      ]
     },
     "execution_count": 36,
     "metadata": {},
     "output_type": "execute_result"
    }
   ],
   "source": [
    "let modulo ~dividend ~divisor = failwith \"for you to implement\""
   ]
  },
  {
   "cell_type": "code",
   "execution_count": 37,
   "metadata": {},
   "outputs": [
    {
     "ename": "error",
     "evalue": "runtime_error",
     "output_type": "error",
     "traceback": [
      "\u001b[31mException: Failure \"for you to implement\".\nRaised at file \"stdlib.ml\", line 33, characters 22-33\nCalled from file \"[37]\", line 1, characters 12-42\nCalled from file \"toplevel/toploop.ml\", line 180, characters 17-56\n\u001b[0m"
     ]
    }
   ],
   "source": [
    "assert (2 = modulo ~dividend:17 ~divisor:5)"
   ]
  },
  {
   "cell_type": "code",
   "execution_count": 38,
   "metadata": {},
   "outputs": [
    {
     "ename": "error",
     "evalue": "runtime_error",
     "output_type": "error",
     "traceback": [
      "\u001b[31mException: Failure \"for you to implement\".\nRaised at file \"stdlib.ml\", line 33, characters 22-33\nCalled from file \"[38]\", line 1, characters 12-42\nCalled from file \"toplevel/toploop.ml\", line 180, characters 17-56\n\u001b[0m"
     ]
    }
   ],
   "source": [
    "assert (0 = modulo ~dividend:99 ~divisor:9)"
   ]
  },
  {
   "cell_type": "markdown",
   "metadata": {},
   "source": [
    "### Higher-order functions\n",
    "\n",
    "Since OCaml is a functional language, functions are regular values which can be used like any other. In particular, they can be used as arguments to other functions. Functions which take other functions as arguments as called higher-order functions.\n",
    "\n",
    "For example, the `List.map` function takes two arguments: a function and a list, and returns a new list created by applying the function to each of the elements of the list.\n",
    "\n",
    "We can use `List.map` to apply the succ function to all the numbers in the list  `[1; 2; 3]`:"
   ]
  },
  {
   "cell_type": "code",
   "execution_count": 42,
   "metadata": {},
   "outputs": [
    {
     "data": {
      "text/plain": [
       "val l : int list = [2; 3; 4]\n"
      ]
     },
     "execution_count": 42,
     "metadata": {},
     "output_type": "execute_result"
    }
   ],
   "source": [
    "let l = List.map succ [1;2;3]"
   ]
  },
  {
   "cell_type": "markdown",
   "metadata": {},
   "source": [
    "This jupyter notebook comes equipped with `merlin`, an OCaml IDE service plugin that provides auto-completion, documentation search, etc. Using merlin, you can look up the available functions in `List` by typing `List.<tab>`. \n",
    "\n",
    "You can also get documentation for a particular function by typing the function and pressing `shift+tab`. For example, try typing `List.map<shift+tab>`. A pop up should appear displaying the documentation."
   ]
  },
  {
   "cell_type": "code",
   "execution_count": 43,
   "metadata": {},
   "outputs": [
    {
     "data": {
      "text/plain": [
       "- : ('a -> 'b) -> 'a list -> 'b list = <fun>\n"
      ]
     },
     "execution_count": 43,
     "metadata": {},
     "output_type": "execute_result"
    }
   ],
   "source": [
    "List.map"
   ]
  },
  {
   "cell_type": "markdown",
   "metadata": {},
   "source": [
    "### Currying\n",
    "\n",
    "Like many functional languages, OCaml provides support for partial application of functions in the form of currying.\n",
    "\n",
    "You may have noticed that the type of our add function was written: \n",
    "\n",
    "`int -> int -> int`\n",
    "\n",
    "another way to write this type would be\n",
    "\n",
    "`int -> (int -> int)`. \n",
    "\n",
    "In other words, add is acutally a function which takes an int and returns a function from int to int. For example, we could redefine our succ function by partially applying add to 1:"
   ]
  },
  {
   "cell_type": "code",
   "execution_count": 44,
   "metadata": {},
   "outputs": [
    {
     "data": {
      "text/plain": [
       "val succ : int -> int = <fun>\n"
      ]
     },
     "execution_count": 44,
     "metadata": {},
     "output_type": "execute_result"
    }
   ],
   "source": [
    "let succ = add 1"
   ]
  },
  {
   "cell_type": "markdown",
   "metadata": {},
   "source": [
    "### Anonymous functions\n",
    "\n",
    "Instead of defining each function with a let, often times it is handy to define functions on the fly. OCaml has support for anonymous functions, which allows you to define unnamed functions. To write an anonymous function, the `fun` keyword is used in the following form `(fun ARG1 ARG2 ... -> BODY)`. We can define an anonymous function for `succ` and use it as follows:"
   ]
  },
  {
   "cell_type": "code",
   "execution_count": 40,
   "metadata": {},
   "outputs": [
    {
     "data": {
      "text/plain": [
       "- : int list = [2; 3; 4]\n"
      ]
     },
     "execution_count": 40,
     "metadata": {},
     "output_type": "execute_result"
    }
   ],
   "source": [
    "List.map (fun x -> x + 1) [1;2;3]"
   ]
  }
 ],
 "metadata": {
  "kernelspec": {
   "display_name": "OCaml 4.07",
   "language": "OCaml",
   "name": "ocaml-jupyter"
  },
  "language_info": {
   "codemirror_mode": "text/x-ocaml",
   "file_extension": ".ml",
   "mimetype": "text/x-ocaml",
   "name": "OCaml",
   "nbconverter_exporter": null,
   "pygments_lexer": "OCaml",
   "version": "4.07.0"
  }
 },
 "nbformat": 4,
 "nbformat_minor": 2
}
