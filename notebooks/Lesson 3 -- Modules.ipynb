{
 "cells": [
  {
   "cell_type": "markdown",
   "metadata": {},
   "source": [
    "# Modules"
   ]
  },
  {
   "cell_type": "markdown",
   "metadata": {},
   "source": [
    "## Structures"
   ]
  },
  {
   "cell_type": "markdown",
   "metadata": {},
   "source": [
    "### Defining structures"
   ]
  },
  {
   "cell_type": "markdown",
   "metadata": {},
   "source": [
    "All OCaml programs are organised into *modules*. The simplest form of module is a *structure*. You can think of structures as collections of definitions. Structures can be created using the `module` and `struct` keywords:"
   ]
  },
  {
   "cell_type": "code",
   "execution_count": 1,
   "metadata": {},
   "outputs": [],
   "source": [
    "module M = struct\n",
    "  type t = T\n",
    "  let x = T\n",
    "end"
   ]
  },
  {
   "cell_type": "markdown",
   "metadata": {},
   "source": [
    "### Accessing structure components"
   ]
  },
  {
   "cell_type": "markdown",
   "metadata": {},
   "source": [
    "The components of a module can be accessed using the `.` operator:"
   ]
  },
  {
   "cell_type": "code",
   "execution_count": 2,
   "metadata": {},
   "outputs": [],
   "source": [
    "let y = M.x"
   ]
  },
  {
   "cell_type": "markdown",
   "metadata": {},
   "source": [
    "Note that the `.` operator works for types as well as values: the `y` variable defined above has type `M.t`."
   ]
  },
  {
   "cell_type": "markdown",
   "metadata": {},
   "source": [
    "### Files as structures"
   ]
  },
  {
   "cell_type": "markdown",
   "metadata": {},
   "source": [
    "In OCaml every source file defines a structure. For example, a file called `foo.ml` would be treated as the definition of a module called `Foo`. We have already used such modules in earlier examples: for instance the `List.map` function of the standard library is defined in a file called [`list.ml`](https://github.com/ocaml/ocaml/blob/trunk/stdlib/list.ml#L90)."
   ]
  },
  {
   "cell_type": "markdown",
   "metadata": {},
   "source": [
    "## Signatures and abstraction"
   ]
  },
  {
   "cell_type": "markdown",
   "metadata": {},
   "source": [
    "Just as all values in OCaml have a type, all modules have a *module type*. As you can see from the output, the module `M` defined above has the module type:\n",
    "````\n",
    "sig\n",
    "  type t = T\n",
    "  val x : t\n",
    "end\n",
    "````\n",
    "This means that it contains a variant type `t` with a single `T` constructor, and a value `x` of type `t`. The module types of structures -- like the one above -- are often called *signatures*."
   ]
  },
  {
   "cell_type": "markdown",
   "metadata": {},
   "source": [
    "### Signature ascription"
   ]
  },
  {
   "cell_type": "markdown",
   "metadata": {},
   "source": [
    "Whilst OCaml will infer the module type of a structure from its definition, you can also ascribe it a more restricted signature. This allows us to hide some of the details of the structure:"
   ]
  },
  {
   "cell_type": "code",
   "execution_count": 3,
   "metadata": {},
   "outputs": [],
   "source": [
    "module IntSet : sig\n",
    "  type t\n",
    "  val empty: t\n",
    "  val mem: int -> t -> bool\n",
    "  val add: int -> t -> t\n",
    "end = struct\n",
    "  type t = int list\n",
    "\n",
    "  let empty = []\n",
    "\n",
    "  let mem i s =\n",
    "    let is_i j = (i = j) in\n",
    "      List.exists is_i s\n",
    "\n",
    "  let add i s =\n",
    "    if mem i s then s\n",
    "    else i :: s\n",
    "end"
   ]
  },
  {
   "cell_type": "markdown",
   "metadata": {},
   "source": [
    "Here we create an `IntSet` module with a type `t` representing sets of integers."
   ]
  },
  {
   "cell_type": "code",
   "execution_count": 4,
   "metadata": {},
   "outputs": [],
   "source": [
    "let s = IntSet.add 6 (IntSet.add 5 IntSet.empty)\n",
    "\n",
    "let b = IntSet.mem 6 s"
   ]
  },
  {
   "cell_type": "markdown",
   "metadata": {},
   "source": [
    "By not including the defintion of `t` in the signature, we hide the implementation of `IntSet`. This means that users of our set type cannot depend on the fact we have implemented it using lists."
   ]
  },
  {
   "cell_type": "code",
   "execution_count": 5,
   "metadata": {},
   "outputs": [],
   "source": [
    "let r = 4 :: s"
   ]
  },
  {
   "cell_type": "markdown",
   "metadata": {},
   "source": [
    "Later we can switch to a more efficient implementation using trees safe in the knowledge that this will not break existing code using `IntSet`.\n",
    "\n",
    "Types with hiddent definitions -- like `t` above -- are called abstract types. OCaml's support for abstraction is one of its most important and powerful features."
   ]
  },
  {
   "cell_type": "markdown",
   "metadata": {},
   "source": [
    "### Signatures for files"
   ]
  },
  {
   "cell_type": "markdown",
   "metadata": {},
   "source": [
    "To add a signature to the module represented by a file we add an interface file. For example, if a file called `foo.ml` defines a structure called `Foo` then `foo.mli` defines the signature of `Foo`. Corresponding to the [`list.ml`](https://github.com/ocaml/ocaml/blob/trunk/stdlib/list.ml) in the OCaml standar library, we have [`list.mli`](https://github.com/ocaml/ocaml/blob/trunk/stdlib/list.mli) which describes the signature of the list interface."
   ]
  },
  {
   "cell_type": "markdown",
   "metadata": {},
   "source": [
    "## Functors\n",
    "\n",
    "In OCaml, functors are module level functions that take modules as arguments and return other modules as results. We had earlier seen an identity function:\n"
   ]
  },
  {
   "cell_type": "code",
   "execution_count": 6,
   "metadata": {},
   "outputs": [],
   "source": [
    "let id (x : int) = x"
   ]
  },
  {
   "cell_type": "markdown",
   "metadata": {},
   "source": [
    "that takes some integer and returns the same. We can define a similar identity functor at the module level. First, let us define a module type which only containts the type alias for `int` type."
   ]
  },
  {
   "cell_type": "code",
   "execution_count": 7,
   "metadata": {},
   "outputs": [],
   "source": [
    "module type Int = sig\n",
    "  type t = int\n",
    "end"
   ]
  },
  {
   "cell_type": "markdown",
   "metadata": {},
   "source": [
    "Now we can define the functor as follows:"
   ]
  },
  {
   "cell_type": "code",
   "execution_count": 8,
   "metadata": {},
   "outputs": [],
   "source": [
    "module Id (X: Int) : Int = X"
   ]
  },
  {
   "cell_type": "markdown",
   "metadata": {},
   "source": [
    "The type says that `Id` is a functor which takes a module of type `Int` and returns another module of the same module type `Int`. We can apply the functor to a module that satisfies this signature as follows:"
   ]
  },
  {
   "cell_type": "code",
   "execution_count": 9,
   "metadata": {},
   "outputs": [],
   "source": [
    "module S = Id(struct type t = int let v = 10 end)"
   ]
  },
  {
   "cell_type": "markdown",
   "metadata": {},
   "source": [
    "More usefully, with the help of functors we can define a set data structure over arbitrary data type:"
   ]
  },
  {
   "cell_type": "code",
   "execution_count": 10,
   "metadata": {
    "scrolled": true
   },
   "outputs": [],
   "source": [
    "module Set (Content: sig type t end): sig\n",
    "  type t\n",
    "  val empty: t\n",
    "  val mem: Content.t -> t -> bool\n",
    "  val add: Content.t -> t -> t\n",
    "end = struct\n",
    "  type t = Content.t list\n",
    "\n",
    "  let empty : t = []\n",
    "\n",
    "  let mem i s =\n",
    "    let is_i j = (i = j) in\n",
    "      List.exists is_i s\n",
    "\n",
    "  let add i s =\n",
    "    if mem i s then s\n",
    "    else i :: s\n",
    "end"
   ]
  },
  {
   "cell_type": "markdown",
   "metadata": {},
   "source": [
    "We can use this to create a set of integers:"
   ]
  },
  {
   "cell_type": "code",
   "execution_count": 11,
   "metadata": {
    "scrolled": true
   },
   "outputs": [],
   "source": [
    "module IntSet = Set(struct type t = int end)"
   ]
  },
  {
   "cell_type": "code",
   "execution_count": 12,
   "metadata": {},
   "outputs": [],
   "source": [
    "let is = IntSet.add 1 (IntSet.add 2 (IntSet.empty))"
   ]
  },
  {
   "cell_type": "markdown",
   "metadata": {},
   "source": [
    "or floats:"
   ]
  },
  {
   "cell_type": "code",
   "execution_count": 13,
   "metadata": {},
   "outputs": [],
   "source": [
    "module FloatSet = Set(struct type t = float end)"
   ]
  },
  {
   "cell_type": "code",
   "execution_count": 14,
   "metadata": {},
   "outputs": [
    {
     "data": {
      "text/plain": [
       "val fs : FloatSet.t = <abstr>\n"
      ]
     },
     "execution_count": 14,
     "metadata": {},
     "output_type": "execute_result"
    }
   ],
   "source": [
    "let fs = FloatSet.add 0.1 (FloatSet.add 0.2 (FloatSet.empty))"
   ]
  },
  {
   "cell_type": "markdown",
   "metadata": {},
   "source": [
    "or set of set of integers:"
   ]
  },
  {
   "cell_type": "code",
   "execution_count": 15,
   "metadata": {},
   "outputs": [
    {
     "data": {
      "text/plain": [
       "module IntSetSet :\n",
       "  sig\n",
       "    type t = Set(IntSet).t\n",
       "    val empty : t\n",
       "    val mem : IntSet.t -> t -> bool\n",
       "    val add : IntSet.t -> t -> t\n",
       "  end\n"
      ]
     },
     "execution_count": 15,
     "metadata": {},
     "output_type": "execute_result"
    }
   ],
   "source": [
    "module IntSetSet = Set(IntSet)"
   ]
  },
  {
   "cell_type": "code",
   "execution_count": 16,
   "metadata": {},
   "outputs": [
    {
     "data": {
      "text/plain": [
       "val iis : IntSetSet.t = <abstr>\n"
      ]
     },
     "execution_count": 16,
     "metadata": {},
     "output_type": "execute_result"
    }
   ],
   "source": [
    "let iis = IntSetSet.add is IntSetSet.empty"
   ]
  }
 ],
 "metadata": {
  "kernelspec": {
   "display_name": "OCaml ocaml-base-compiler.4.07.1",
   "language": "OCaml",
   "name": "ocaml-jupyter"
  },
  "language_info": {
   "codemirror_mode": "text/x-ocaml",
   "file_extension": ".ml",
   "mimetype": "text/x-ocaml",
   "name": "OCaml",
   "nbconverter_exporter": null,
   "pygments_lexer": "OCaml",
   "version": "4.07.1"
  }
 },
 "nbformat": 4,
 "nbformat_minor": 1
}
