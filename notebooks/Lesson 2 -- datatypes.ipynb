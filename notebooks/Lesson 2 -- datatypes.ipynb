{
 "cells": [
  {
   "cell_type": "markdown",
   "metadata": {},
   "source": [
    "# Data types and pattern matching"
   ]
  },
  {
   "cell_type": "markdown",
   "metadata": {},
   "source": [
    "OCaml has a concise and expressive system for creating new datatypes. It also supports pattern matching to naturally express deconstruction of these data types."
   ]
  },
  {
   "cell_type": "markdown",
   "metadata": {},
   "source": [
    "## Type aliases"
   ]
  },
  {
   "cell_type": "markdown",
   "metadata": {},
   "source": [
    "OCaml allows you to define aliases for existing types using the `type` keyword:"
   ]
  },
  {
   "cell_type": "code",
   "execution_count": 1,
   "metadata": {},
   "outputs": [],
   "source": [
    "type int_pair = int * int"
   ]
  },
  {
   "cell_type": "markdown",
   "metadata": {},
   "source": [
    "The above defines a type `int_pair` which is an alias to the pair of ints type (`int * int`).\n",
    "\n",
    "You can constrain the type of an expression using the `:` operator. Here we create an identity function which is constrained to only work on pairs of ints:"
   ]
  },
  {
   "cell_type": "code",
   "execution_count": 2,
   "metadata": {},
   "outputs": [],
   "source": [
    "let id x = (x : int_pair)"
   ]
  },
  {
   "cell_type": "markdown",
   "metadata": {},
   "source": [
    "You can also constrain the type of a variable binding, so our `id` function could also be written as:"
   ]
  },
  {
   "cell_type": "code",
   "execution_count": 3,
   "metadata": {},
   "outputs": [],
   "source": [
    "let id (x : int_pair) = x"
   ]
  },
  {
   "cell_type": "markdown",
   "metadata": {},
   "source": [
    "## Records"
   ]
  },
  {
   "cell_type": "markdown",
   "metadata": {},
   "source": [
    "### Record types"
   ]
  },
  {
   "cell_type": "markdown",
   "metadata": {},
   "source": [
    "Records in OCaml represent a collection of named elements. A simple example is a `point` record containing `x`, `y` and `z` fields:"
   ]
  },
  {
   "cell_type": "code",
   "execution_count": 4,
   "metadata": {},
   "outputs": [],
   "source": [
    "type point = {\n",
    "  x : int;\n",
    "  y : int;\n",
    "  z : int;\n",
    "}"
   ]
  },
  {
   "cell_type": "markdown",
   "metadata": {},
   "source": [
    "We can create instances of our `point` type using `{ ... }`, and access the elements of a point using the '.' operator:"
   ]
  },
  {
   "cell_type": "code",
   "execution_count": 5,
   "metadata": {},
   "outputs": [],
   "source": [
    "let origin = { x = 0; y = 0; z = 0 }\n",
    "\n",
    "let get_y r = r.y\n",
    "\n",
    "let o = get_y origin"
   ]
  },
  {
   "cell_type": "markdown",
   "metadata": {},
   "source": [
    "### Functional update"
   ]
  },
  {
   "cell_type": "markdown",
   "metadata": {},
   "source": [
    "New records can also be created from existing records using the `with` keyword. For example, we can create a new `point` which is the same as `origin` except with the value of its `z` field changed to `10`:"
   ]
  },
  {
   "cell_type": "code",
   "execution_count": 6,
   "metadata": {},
   "outputs": [],
   "source": [
    "let p = { origin with z = 10 }"
   ]
  },
  {
   "cell_type": "markdown",
   "metadata": {},
   "source": [
    "### Field punning"
   ]
  },
  {
   "cell_type": "markdown",
   "metadata": {},
   "source": [
    "Another useful trick with records is *field punning*, which allows you to replace:"
   ]
  },
  {
   "cell_type": "code",
   "execution_count": 7,
   "metadata": {},
   "outputs": [],
   "source": [
    "let mk_point x y z = { x = x; y = y; z = z }"
   ]
  },
  {
   "cell_type": "markdown",
   "metadata": {},
   "source": [
    "with"
   ]
  },
  {
   "cell_type": "code",
   "execution_count": 8,
   "metadata": {},
   "outputs": [],
   "source": [
    "let mk_point x y z = { x; y; z }"
   ]
  },
  {
   "cell_type": "markdown",
   "metadata": {},
   "source": [
    "## Mutability\n",
    "\n",
    "OCaml has first-class support for mutability. There are several langauge features that support mutability in OCaml. One of them is mutable record fields. Let us make a mutable point datatype."
   ]
  },
  {
   "cell_type": "code",
   "execution_count": 9,
   "metadata": {},
   "outputs": [],
   "source": [
    "type mpoint = {mutable x : int; mutable y : int; mutable z: int}"
   ]
  },
  {
   "cell_type": "markdown",
   "metadata": {},
   "source": [
    "Notice that the type says that the fields are `mutable`. Just like the point datatype defined previously, you can create a value of `mpoint` type and read it."
   ]
  },
  {
   "cell_type": "code",
   "execution_count": 10,
   "metadata": {},
   "outputs": [],
   "source": [
    "let morigin = {x=0;y=0;z=0}\n",
    "\n",
    "let p = {morigin with z = 10}\n",
    "\n",
    "let p_z = p.z"
   ]
  },
  {
   "cell_type": "markdown",
   "metadata": {},
   "source": [
    "However, unlike the immutable record fields, the mutable fields can be updated."
   ]
  },
  {
   "cell_type": "code",
   "execution_count": 11,
   "metadata": {},
   "outputs": [],
   "source": [
    "p.z <- 20\n",
    "\n",
    "let p_z = p.z"
   ]
  },
  {
   "cell_type": "markdown",
   "metadata": {},
   "source": [
    "### References\n",
    "\n",
    "It is sometimes useful to create single mutable value. OCaml provides reference cells for this purpose"
   ]
  },
  {
   "cell_type": "code",
   "execution_count": 12,
   "metadata": {},
   "outputs": [],
   "source": [
    "let x = ref 0"
   ]
  },
  {
   "cell_type": "markdown",
   "metadata": {},
   "source": [
    "`x` is a reference cell which holds a value of type integer and its current value is 0. Reference cells can be read using `!` and updated using `:=`."
   ]
  },
  {
   "cell_type": "code",
   "execution_count": 13,
   "metadata": {},
   "outputs": [],
   "source": [
    "x := !x + 1\n",
    "\n",
    "let v = !x"
   ]
  },
  {
   "cell_type": "markdown",
   "metadata": {},
   "source": [
    "<h3> <span style=\"color:purple;border-style:solid\"> Exercise </span> </h3>\n",
    "\n",
    "Implement a function that takes two mutable variable and swaps their values:"
   ]
  },
  {
   "cell_type": "code",
   "execution_count": 14,
   "metadata": {},
   "outputs": [],
   "source": [
    "let swap x y = failwith \"for you to implement\""
   ]
  },
  {
   "cell_type": "code",
   "execution_count": 15,
   "metadata": {},
   "outputs": [
    {
     "ename": "error",
     "evalue": "runtime_error",
     "output_type": "error",
     "traceback": [
      "\u001b[31mException: Failure \"for you to implement\".\nRaised at file \"stdlib.ml\", line 33, characters 22-33\nCalled from file \"[15]\", line 4, characters 9-17\nCalled from file \"toplevel/toploop.ml\", line 180, characters 17-56\n\u001b[0m"
     ]
    }
   ],
   "source": [
    "let x = ref 10\n",
    "let y = ref 20\n",
    "\n",
    "let () = swap x y"
   ]
  },
  {
   "cell_type": "code",
   "execution_count": 16,
   "metadata": {},
   "outputs": [
    {
     "ename": "error",
     "evalue": "runtime_error",
     "output_type": "error",
     "traceback": [
      "\u001b[31mException: Assert_failure (\"[16]\", 1, 0).\nRaised at file \"[16]\", line 1, characters 0-26\nCalled from file \"toplevel/toploop.ml\", line 180, characters 17-56\n\u001b[0m"
     ]
    }
   ],
   "source": [
    "assert ((20,10) = (!x,!y))"
   ]
  },
  {
   "cell_type": "markdown",
   "metadata": {},
   "source": [
    "## Variants"
   ]
  },
  {
   "cell_type": "markdown",
   "metadata": {},
   "source": [
    "### Variant types"
   ]
  },
  {
   "cell_type": "markdown",
   "metadata": {},
   "source": [
    "Variants in OCaml represent data which can be in one of a number of forms. A very simple example is a type representing one of three colours:"
   ]
  },
  {
   "cell_type": "code",
   "execution_count": 17,
   "metadata": {},
   "outputs": [
    {
     "data": {
      "text/plain": [
       "type colour = Red | Green | Blue\n"
      ]
     },
     "execution_count": 17,
     "metadata": {},
     "output_type": "execute_result"
    }
   ],
   "source": [
    "type colour =\n",
    "  | Red\n",
    "  | Green\n",
    "  | Blue"
   ]
  },
  {
   "cell_type": "markdown",
   "metadata": {},
   "source": [
    "We can create a `colour` using one of its constructors:"
   ]
  },
  {
   "cell_type": "code",
   "execution_count": 18,
   "metadata": {},
   "outputs": [
    {
     "data": {
      "text/plain": [
       "val red : colour = Red\n"
      ]
     },
     "execution_count": 18,
     "metadata": {},
     "output_type": "execute_result"
    }
   ],
   "source": [
    "let red = Red"
   ]
  },
  {
   "cell_type": "markdown",
   "metadata": {},
   "source": [
    "### Constructor arguments"
   ]
  },
  {
   "cell_type": "markdown",
   "metadata": {},
   "source": [
    "Variant constructors can also have arguments. This allows variants to contain different types of data depending on which constructor was used. For example, we can create a type which contains either a `point` or a `colour`:"
   ]
  },
  {
   "cell_type": "code",
   "execution_count": 19,
   "metadata": {},
   "outputs": [
    {
     "data": {
      "text/plain": [
       "type t = Point of point | Colour of colour\n"
      ]
     },
     "execution_count": 19,
     "metadata": {},
     "output_type": "execute_result"
    },
    {
     "data": {
      "text/plain": [
       "val p_or_c : bool -> point -> colour -> t = <fun>\n"
      ]
     },
     "execution_count": 19,
     "metadata": {},
     "output_type": "execute_result"
    },
    {
     "data": {
      "text/plain": [
       "val p : t = Point {x = 0; y = 0; z = 0}\n"
      ]
     },
     "execution_count": 19,
     "metadata": {},
     "output_type": "execute_result"
    }
   ],
   "source": [
    "type t =\n",
    "  | Point of point\n",
    "  | Colour of colour\n",
    "  \n",
    "let p_or_c cond pnt col = if cond then Point pnt else Colour col\n",
    "\n",
    "let p = p_or_c (1 > 0) origin red"
   ]
  },
  {
   "cell_type": "markdown",
   "metadata": {},
   "source": [
    "### Multiple constructor arguments"
   ]
  },
  {
   "cell_type": "markdown",
   "metadata": {},
   "source": [
    "Variants constructors can contain multiple arguments seperated by the `*` symbol:"
   ]
  },
  {
   "cell_type": "code",
   "execution_count": 20,
   "metadata": {},
   "outputs": [
    {
     "data": {
      "text/plain": [
       "type s = ThreePoints of point * point * point | TwoColours of colour * colour\n"
      ]
     },
     "execution_count": 20,
     "metadata": {},
     "output_type": "execute_result"
    }
   ],
   "source": [
    "type s =\n",
    "| ThreePoints of point * point * point\n",
    "| TwoColours of colour * colour"
   ]
  },
  {
   "cell_type": "markdown",
   "metadata": {},
   "source": [
    "Creating these constructors with multiple arguments require parentheses:"
   ]
  },
  {
   "cell_type": "code",
   "execution_count": 21,
   "metadata": {},
   "outputs": [
    {
     "data": {
      "text/plain": [
       "val s : s = TwoColours (Red, Green)\n"
      ]
     },
     "execution_count": 21,
     "metadata": {},
     "output_type": "execute_result"
    }
   ],
   "source": [
    "let s = TwoColours(Red, Green)"
   ]
  },
  {
   "cell_type": "markdown",
   "metadata": {},
   "source": [
    "## Pattern matching\n",
    "\n",
    "Before we go on, let us define a handy print function to print stuff to the notebook. "
   ]
  },
  {
   "cell_type": "code",
   "execution_count": 66,
   "metadata": {},
   "outputs": [
    {
     "data": {
      "text/plain": [
       "val show : string -> unit = <fun>\n"
      ]
     },
     "execution_count": 66,
     "metadata": {},
     "output_type": "execute_result"
    }
   ],
   "source": [
    "#require \"jupyter.notebook\";;\n",
    "\n",
    "let show s = ignore (Jupyter_notebook.display \"text/html\" (\"<h3 style='color:red'>\"^s^\"</h3>\"))"
   ]
  },
  {
   "cell_type": "markdown",
   "metadata": {},
   "source": [
    "Now we can print things to screen"
   ]
  },
  {
   "cell_type": "code",
   "execution_count": 67,
   "metadata": {},
   "outputs": [
    {
     "data": {
      "text/html": [
       "<h3 style='color:red'>Hello, world!</h3>"
      ]
     },
     "metadata": {},
     "output_type": "display_data"
    },
    {
     "data": {
      "text/plain": [
       "- : unit = ()\n"
      ]
     },
     "execution_count": 67,
     "metadata": {},
     "output_type": "execute_result"
    }
   ],
   "source": [
    "show \"Hello, world!\""
   ]
  },
  {
   "cell_type": "markdown",
   "metadata": {},
   "source": [
    "### Inspecting variants"
   ]
  },
  {
   "cell_type": "markdown",
   "metadata": {},
   "source": [
    "So far we have created some values of variant types, but how do we get the data back out of them? The answer is *pattern matching*. Using a `match` statement we can deconstruct a variant type and retrieve its constructor's arguments:"
   ]
  },
  {
   "cell_type": "code",
   "execution_count": 68,
   "metadata": {},
   "outputs": [
    {
     "data": {
      "text/plain": [
       "val print_t : t -> unit = <fun>\n"
      ]
     },
     "execution_count": 68,
     "metadata": {},
     "output_type": "execute_result"
    },
    {
     "data": {
      "text/html": [
       "<h3 style='color:red'>Point: 5 9 0\n",
       "</h3>"
      ]
     },
     "metadata": {},
     "output_type": "display_data"
    },
    {
     "data": {
      "text/html": [
       "<h3 style='color:red'>Colour\n",
       "</h3>"
      ]
     },
     "metadata": {},
     "output_type": "display_data"
    }
   ],
   "source": [
    "let print_t t =\n",
    "  match t with\n",
    "  | Point p -> show (Printf.sprintf \"Point: %d %d %d\\n\" p.x p.y p.z)\n",
    "  | Colour c -> show (Printf.sprintf \"Colour\\n\")\n",
    "  \n",
    "let () = print_t (Point { x = 5; y = 9; z = 0 })\n",
    "\n",
    "let () = print_t (Colour Blue)"
   ]
  },
  {
   "cell_type": "markdown",
   "metadata": {},
   "source": [
    "Here `Point p` and `Colour c` are not expressions but *patterns*. They describe the shape of the data and bind variables to different parts of it. Note that the `p` in `Point p` does not refer to an existing `p` variable, instead it is creating a new `p` variable bound to the argument of the `Point` constructor."
   ]
  },
  {
   "cell_type": "markdown",
   "metadata": {},
   "source": [
    "### Nested patterns"
   ]
  },
  {
   "cell_type": "markdown",
   "metadata": {},
   "source": [
    "We can nest patterns within other patterns to do pattern matching on the constructor arguments. For example, we can print the names of the different colours in our `print_t` function:"
   ]
  },
  {
   "cell_type": "code",
   "execution_count": 70,
   "metadata": {},
   "outputs": [
    {
     "data": {
      "text/plain": [
       "val print_t : t -> unit = <fun>\n"
      ]
     },
     "execution_count": 70,
     "metadata": {},
     "output_type": "execute_result"
    },
    {
     "data": {
      "text/html": [
       "<h3 style='color:red'>Red\n",
       "</h3>"
      ]
     },
     "metadata": {},
     "output_type": "display_data"
    },
    {
     "data": {
      "text/html": [
       "<h3 style='color:red'>Blue\n",
       "</h3>"
      ]
     },
     "metadata": {},
     "output_type": "display_data"
    }
   ],
   "source": [
    "let print_t t =\n",
    "  match t with\n",
    "  | Point p -> show (Printf.sprintf \"Point: %d %d %d\\n\" p.x p.y p.z)\n",
    "  | Colour Red -> show (Printf.sprintf \"Red\\n\")\n",
    "  | Colour Green -> show (Printf.sprintf \"Green\\n\")\n",
    "  | Colour Blue -> show (Printf.sprintf \"Blue\\n\")\n",
    "  \n",
    "let () = print_t (Colour Red)\n",
    "\n",
    "let () = print_t (Colour Blue)"
   ]
  },
  {
   "cell_type": "markdown",
   "metadata": {},
   "source": [
    "### Matching records"
   ]
  },
  {
   "cell_type": "markdown",
   "metadata": {},
   "source": [
    "We can also match on record data using the same syntax as to create records, including field punning. So our `print_t` can be further refined to:"
   ]
  },
  {
   "cell_type": "code",
   "execution_count": 71,
   "metadata": {},
   "outputs": [
    {
     "data": {
      "text/plain": [
       "val print_t : t -> unit = <fun>\n"
      ]
     },
     "execution_count": 71,
     "metadata": {},
     "output_type": "execute_result"
    }
   ],
   "source": [
    "let print_t t =\n",
    "  match t with\n",
    "  | Point { x; y; z } -> Printf.printf \"Point: %d %d %d\\n\" x y z\n",
    "  | Colour Red -> Printf.printf \"Red\\n\"\n",
    "  | Colour Green -> Printf.printf \"Green\\n\"\n",
    "  | Colour Blue -> Printf.printf \"Blue\\n\""
   ]
  },
  {
   "cell_type": "markdown",
   "metadata": {},
   "source": [
    "### Exhaustiveness"
   ]
  },
  {
   "cell_type": "markdown",
   "metadata": {},
   "source": [
    "A key feature of pattern matching, which can help prevent many errors especially when refactoring, is that the compiler will warn you if you forget to handle a particular case. For example, if we had forgotten the `Colour Green` case in the above definition:"
   ]
  },
  {
   "cell_type": "code",
   "execution_count": 84,
   "metadata": {},
   "outputs": [
    {
     "name": "stderr",
     "output_type": "stream",
     "text": [
      "File \"[84]\", line 2, characters 2-185:\n",
      "Warning 8: this pattern-matching is not exhaustive.\n",
      "Here is an example of a case that is not matched:\n",
      "Colour Green\n"
     ]
    },
    {
     "data": {
      "text/plain": [
       "val print_t_ : t -> unit = <fun>\n"
      ]
     },
     "execution_count": 84,
     "metadata": {},
     "output_type": "execute_result"
    }
   ],
   "source": [
    "let print_t_ t =\n",
    "  match t with\n",
    "  | Point { x; y; z } -> show (Printf.sprintf \"Point: %d %d %d\\n\" x y z)\n",
    "  | Colour Red -> show (Printf.sprintf \"Red\\n\")\n",
    "  | Colour Blue -> show (Printf.sprintf \"Blue\\n\")"
   ]
  },
  {
   "cell_type": "markdown",
   "metadata": {},
   "source": [
    "### The `_` pattern"
   ]
  },
  {
   "cell_type": "markdown",
   "metadata": {},
   "source": [
    "Sometimes, you do not care about the value of a constructor, in this case you can use the `_` pattern which will match any constructor:"
   ]
  },
  {
   "cell_type": "code",
   "execution_count": 85,
   "metadata": {},
   "outputs": [
    {
     "data": {
      "text/plain": [
       "val is_colour_red : t -> bool = <fun>\n"
      ]
     },
     "execution_count": 85,
     "metadata": {},
     "output_type": "execute_result"
    }
   ],
   "source": [
    "let is_colour_red t =\n",
    "  match t with\n",
    "  | Colour Red -> true\n",
    "  | _ -> false"
   ]
  },
  {
   "cell_type": "markdown",
   "metadata": {},
   "source": [
    "### Match ordering"
   ]
  },
  {
   "cell_type": "markdown",
   "metadata": {},
   "source": [
    "Note that patterns are matched from top to bottom: if a value matches multiple patterns then the first of those patterns will be selected. For example, in the following code the second case will never be matched:"
   ]
  },
  {
   "cell_type": "code",
   "execution_count": 86,
   "metadata": {},
   "outputs": [
    {
     "name": "stderr",
     "output_type": "stream",
     "text": [
      "File \"[86]\", line 4, characters 4-14:\n",
      "Warning 11: this match case is unused.\n"
     ]
    },
    {
     "data": {
      "text/plain": [
       "val is_colour_red : t -> bool = <fun>\n"
      ]
     },
     "execution_count": 86,
     "metadata": {},
     "output_type": "execute_result"
    }
   ],
   "source": [
    "let is_colour_red t =\n",
    "  match t with\n",
    "  | _ -> false\n",
    "  | Colour Red -> true"
   ]
  },
  {
   "cell_type": "markdown",
   "metadata": {},
   "source": [
    "## Parameterised types"
   ]
  },
  {
   "cell_type": "markdown",
   "metadata": {},
   "source": [
    "Types in OCaml can be parameterised by other types. For example, the `option` type which may or may not contain a value:"
   ]
  },
  {
   "cell_type": "code",
   "execution_count": 87,
   "metadata": {},
   "outputs": [
    {
     "data": {
      "text/plain": [
       "type 'a option = None | Some of 'a\n"
      ]
     },
     "execution_count": 87,
     "metadata": {},
     "output_type": "execute_result"
    }
   ],
   "source": [
    "type 'a option =\n",
    "| None\n",
    "| Some of 'a"
   ]
  },
  {
   "cell_type": "markdown",
   "metadata": {},
   "source": [
    "In the above the `'a` is a *type variable*, which can be substituted by any type. For instance a we can create a value of type `int option` or a value of type `colour option`:"
   ]
  },
  {
   "cell_type": "code",
   "execution_count": 88,
   "metadata": {
    "scrolled": true
   },
   "outputs": [
    {
     "data": {
      "text/plain": [
       "val io : int option = Some 6\n"
      ]
     },
     "execution_count": 88,
     "metadata": {},
     "output_type": "execute_result"
    },
    {
     "data": {
      "text/plain": [
       "val co : colour option = Some Green\n"
      ]
     },
     "execution_count": 88,
     "metadata": {},
     "output_type": "execute_result"
    }
   ],
   "source": [
    "let io = Some 6\n",
    "\n",
    "let co = Some Green"
   ]
  },
  {
   "cell_type": "markdown",
   "metadata": {},
   "source": [
    "We can define a printer for `t option` type as follows:"
   ]
  },
  {
   "cell_type": "code",
   "execution_count": 91,
   "metadata": {},
   "outputs": [
    {
     "data": {
      "text/plain": [
       "val print_t_opt : t option -> unit = <fun>\n"
      ]
     },
     "execution_count": 91,
     "metadata": {},
     "output_type": "execute_result"
    }
   ],
   "source": [
    "let print_t_opt t = \n",
    "  match t with\n",
    "  | None -> show (\"None\")\n",
    "  | Some t -> print_t t"
   ]
  },
  {
   "cell_type": "code",
   "execution_count": 97,
   "metadata": {},
   "outputs": [
    {
     "data": {
      "text/html": [
       "<h3 style='color:red'>Red\n",
       "</h3>"
      ]
     },
     "metadata": {},
     "output_type": "display_data"
    },
    {
     "data": {
      "text/html": [
       "<h3 style='color:red'>None</h3>"
      ]
     },
     "metadata": {},
     "output_type": "display_data"
    }
   ],
   "source": [
    "let () = print_t_opt (Some (Colour Red))\n",
    "\n",
    "let () = print_t_opt None"
   ]
  },
  {
   "cell_type": "markdown",
   "metadata": {},
   "source": [
    "### Polymorphic values"
   ]
  },
  {
   "cell_type": "markdown",
   "metadata": {},
   "source": [
    "These type variables also appear when creating *polymorphic* values. For example, the following function has type `'a option -> 'a list` which means it can be applied to any `option` type:"
   ]
  },
  {
   "cell_type": "code",
   "execution_count": 98,
   "metadata": {},
   "outputs": [
    {
     "data": {
      "text/plain": [
       "val opt_to_list : 'a option -> 'a list = <fun>\n"
      ]
     },
     "execution_count": 98,
     "metadata": {},
     "output_type": "execute_result"
    },
    {
     "data": {
      "text/plain": [
       "val l : int list = [9]\n"
      ]
     },
     "execution_count": 98,
     "metadata": {},
     "output_type": "execute_result"
    },
    {
     "data": {
      "text/plain": [
       "val m : colour list = [Red]\n"
      ]
     },
     "execution_count": 98,
     "metadata": {},
     "output_type": "execute_result"
    }
   ],
   "source": [
    "let opt_to_list o =\n",
    "  match o with\n",
    "  | Some x -> [x]\n",
    "  | None -> []\n",
    "  \n",
    "let l = opt_to_list (Some 9)\n",
    "\n",
    "let m = opt_to_list (Some Red)"
   ]
  },
  {
   "cell_type": "markdown",
   "metadata": {},
   "source": [
    "### Polymorphic constructors"
   ]
  },
  {
   "cell_type": "markdown",
   "metadata": {},
   "source": [
    "Constructors of parameterised types which do not include the type parameter -- such as `None` in the optional type -- are also examples of polymorphic values:"
   ]
  },
  {
   "cell_type": "code",
   "execution_count": 99,
   "metadata": {},
   "outputs": [
    {
     "data": {
      "text/plain": [
       "val n : 'a option = None\n"
      ]
     },
     "execution_count": 99,
     "metadata": {},
     "output_type": "execute_result"
    },
    {
     "data": {
      "text/plain": [
       "val a : int option list = [Some 3; None]\n"
      ]
     },
     "execution_count": 99,
     "metadata": {},
     "output_type": "execute_result"
    },
    {
     "data": {
      "text/plain": [
       "val b : colour option list = [None; Some Blue]\n"
      ]
     },
     "execution_count": 99,
     "metadata": {},
     "output_type": "execute_result"
    }
   ],
   "source": [
    "let n = None\n",
    "\n",
    "let a = [ Some 3; n ]\n",
    "\n",
    "let b = [ n; Some Blue ]"
   ]
  },
  {
   "cell_type": "markdown",
   "metadata": {},
   "source": [
    "## Recursive data types"
   ]
  },
  {
   "cell_type": "markdown",
   "metadata": {},
   "source": [
    "Data types in OCaml can also be recursive. This allows us to create recursive structures such as trees and lists. The following defines a parametric binary tree type:"
   ]
  },
  {
   "cell_type": "code",
   "execution_count": 100,
   "metadata": {},
   "outputs": [
    {
     "data": {
      "text/plain": [
       "type 'a binary_tree = Leaf of 'a | Tree of 'a binary_tree * 'a binary_tree\n"
      ]
     },
     "execution_count": 100,
     "metadata": {},
     "output_type": "execute_result"
    }
   ],
   "source": [
    "type 'a binary_tree =\n",
    "  | Leaf of 'a\n",
    "  | Tree of 'a binary_tree * 'a binary_tree"
   ]
  },
  {
   "cell_type": "markdown",
   "metadata": {},
   "source": [
    "As you can see the `Tree` constructor of `binary_tree` contains other `binary_tree`s as its arguments."
   ]
  },
  {
   "cell_type": "markdown",
   "metadata": {},
   "source": [
    "### Inspecting recursive data types"
   ]
  },
  {
   "cell_type": "markdown",
   "metadata": {},
   "source": [
    "We can write recursive functions to handle these recursive data types. For example, the following function returns the maximum depth of a binary tree:"
   ]
  },
  {
   "cell_type": "code",
   "execution_count": 101,
   "metadata": {},
   "outputs": [
    {
     "data": {
      "text/plain": [
       "val depth : 'a binary_tree -> int = <fun>\n"
      ]
     },
     "execution_count": 101,
     "metadata": {},
     "output_type": "execute_result"
    },
    {
     "data": {
      "text/plain": [
       "val tree : colour binary_tree =\n",
       "  Tree (Tree (Leaf Red, Tree (Leaf Blue, Leaf Green)),\n",
       "   Tree (Leaf Green, Leaf Green))\n"
      ]
     },
     "execution_count": 101,
     "metadata": {},
     "output_type": "execute_result"
    },
    {
     "data": {
      "text/plain": [
       "val d : int = 4\n"
      ]
     },
     "execution_count": 101,
     "metadata": {},
     "output_type": "execute_result"
    }
   ],
   "source": [
    "let rec depth tr =\n",
    "  match tr with\n",
    "  | Leaf _ -> 1\n",
    "  | Tree(left, right) ->\n",
    "      1 + (max (depth left) (depth right))\n",
    "\n",
    "let tree = \n",
    "  Tree(Tree(Leaf Red,\n",
    "            Tree(Leaf Blue,\n",
    "                 Leaf Green)),\n",
    "       Tree(Leaf Green,\n",
    "            Leaf Green))\n",
    "\n",
    "let d = depth tree"
   ]
  },
  {
   "cell_type": "markdown",
   "metadata": {},
   "source": [
    "## Lists"
   ]
  },
  {
   "cell_type": "markdown",
   "metadata": {},
   "source": [
    "### Constructing lists"
   ]
  },
  {
   "cell_type": "markdown",
   "metadata": {},
   "source": [
    "A particularly common built-in data type in OCaml is the `list` type. `list` is actually a parameterised recursive variant type. It has two constructors `::` (called cons) and `[]` (called nil). `[]` represents an empty list and `::` adds an element to the front of the list:"
   ]
  },
  {
   "cell_type": "code",
   "execution_count": 35,
   "metadata": {},
   "outputs": [
    {
     "data": {
      "text/plain": [
       "val l : int list = [1; 2; 3]\n"
      ]
     },
     "execution_count": 35,
     "metadata": {},
     "output_type": "execute_result"
    }
   ],
   "source": [
    "let l = 1 :: 2 :: 3 :: []"
   ]
  },
  {
   "cell_type": "markdown",
   "metadata": {},
   "source": [
    "OCaml also provides a short-hand syntax for lists: `[ ..; .. ]`. Our `l` value above could instead have been defined:"
   ]
  },
  {
   "cell_type": "code",
   "execution_count": 36,
   "metadata": {},
   "outputs": [
    {
     "data": {
      "text/plain": [
       "val l : int list = [1; 2; 3]\n"
      ]
     },
     "execution_count": 36,
     "metadata": {},
     "output_type": "execute_result"
    }
   ],
   "source": [
    "let l = [1; 2; 3]"
   ]
  },
  {
   "cell_type": "markdown",
   "metadata": {},
   "source": [
    "### Matching lists"
   ]
  },
  {
   "cell_type": "markdown",
   "metadata": {},
   "source": [
    "Like all constructors, the list constructors can be used as patterns in pattern matching. The following function sums all the elements of an `int list`:"
   ]
  },
  {
   "cell_type": "code",
   "execution_count": 37,
   "metadata": {},
   "outputs": [
    {
     "data": {
      "text/plain": [
       "val sum : int list -> int = <fun>\n"
      ]
     },
     "execution_count": 37,
     "metadata": {},
     "output_type": "execute_result"
    },
    {
     "data": {
      "text/plain": [
       "val s : int = 6\n"
      ]
     },
     "execution_count": 37,
     "metadata": {},
     "output_type": "execute_result"
    }
   ],
   "source": [
    "let rec sum il =\n",
    "  match il with\n",
    "  | [] -> 0\n",
    "  | i :: rest -> i + (sum rest)\n",
    "  \n",
    "let s = sum l"
   ]
  },
  {
   "cell_type": "markdown",
   "metadata": {},
   "source": [
    "<h3> <span style=\"color:purple;border-style:solid\"> Exercise </span> </h3>\n",
    "\n",
    "Write a function `min_list` to compute the minimum element in an integer list. If the list is empty then it should return `None`. If the minimum element is `e`, then the function returns `Some e`."
   ]
  },
  {
   "cell_type": "code",
   "execution_count": 107,
   "metadata": {},
   "outputs": [
    {
     "data": {
      "text/plain": [
       "val min_list_helper : 'a option -> 'b list -> 'a option = <fun>\n"
      ]
     },
     "execution_count": 107,
     "metadata": {},
     "output_type": "execute_result"
    },
    {
     "data": {
      "text/plain": [
       "val min_list : 'a list -> 'b option = <fun>\n"
      ]
     },
     "execution_count": 107,
     "metadata": {},
     "output_type": "execute_result"
    }
   ],
   "source": [
    "let rec min_list_helper cur_min l =\n",
    "  match l with\n",
    "  | [] -> cur_min\n",
    "  | x::xs ->\n",
    "      match cur_min with\n",
    "      | None -> failwith \"for you to implement\"\n",
    "      | Some m -> failwith \"for you to implement\"\n",
    "  \n",
    "let min_list l = min_list_helper None l"
   ]
  },
  {
   "cell_type": "code",
   "execution_count": 108,
   "metadata": {},
   "outputs": [
    {
     "data": {
      "text/plain": [
       "- : unit = ()\n"
      ]
     },
     "execution_count": 108,
     "metadata": {},
     "output_type": "execute_result"
    }
   ],
   "source": [
    "assert (min_list [] = None)"
   ]
  },
  {
   "cell_type": "code",
   "execution_count": 109,
   "metadata": {
    "scrolled": true
   },
   "outputs": [
    {
     "ename": "error",
     "evalue": "runtime_error",
     "output_type": "error",
     "traceback": [
      "\u001b[31mException: Failure \"for you to implement\".\nRaised at file \"stdlib.ml\", line 33, characters 22-33\nCalled from file \"[109]\", line 1, characters 8-24\nCalled from file \"toplevel/toploop.ml\", line 180, characters 17-56\n\u001b[0m"
     ]
    }
   ],
   "source": [
    "assert (min_list [3;1;2] = Some 1)"
   ]
  }
 ],
 "metadata": {
  "kernelspec": {
   "display_name": "OCaml ocaml-base-compiler.4.07.1",
   "language": "OCaml",
   "name": "ocaml-jupyter"
  },
  "language_info": {
   "codemirror_mode": "text/x-ocaml",
   "file_extension": ".ml",
   "mimetype": "text/x-ocaml",
   "name": "OCaml",
   "nbconverter_exporter": null,
   "pygments_lexer": "OCaml",
   "version": "4.07.1"
  }
 },
 "nbformat": 4,
 "nbformat_minor": 1
}
